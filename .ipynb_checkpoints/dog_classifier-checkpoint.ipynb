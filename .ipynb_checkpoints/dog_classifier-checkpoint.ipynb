{
 "cells": [
  {
   "cell_type": "markdown",
   "metadata": {},
   "source": [
    "### Dog's breads Classifier / Clasificador de Razas de perros ###"
   ]
  },
  {
   "cell_type": "markdown",
   "metadata": {},
   "source": [
    "Al llegar a Chile, me sorpredió que todo el mundo tiene un perro y en vista de que yo no sé mucho sobre perros me animé a usar un modelo de clasificación de imágenes para determinar la raza de cada uno de estos animalitos. Este código distingue entre 50 razas diferentes, definitivamente es mucho mejor que lo que mi escasa memoria es capaz de hacer hasta la fecha."
   ]
  },
  {
   "cell_type": "code",
   "execution_count": 30,
   "metadata": {},
   "outputs": [],
   "source": [
    "from fastai.vision.all import *\n",
    "from fastai.vision.widgets import *"
   ]
  },
  {
   "cell_type": "code",
   "execution_count": 31,
   "metadata": {},
   "outputs": [],
   "source": [
    "# This code is necessary because the model was trained with an old version of fastai\n",
    "# Este código es necesario porque el modelo se entrenó con una version antigua de fastai\n",
    "\n",
    "import fastai.losses\n",
    "import fastai.layers\n",
    "\n",
    "fastai.layers.BaseLoss = fastai.losses.BaseLoss\n",
    "fastai.layers.CrossEntropyLossFlat = fastai.losses.CrossEntropyLossFlat\n",
    "fastai.layers.BCEWithLogitsLossFlat = fastai.losses.BCEWithLogitsLossFlat\n",
    "fastai.layers.BCELossFlat = fastai.losses.BCELossFlat\n",
    "fastai.layers.MSELossFlat = fastai.losses.MSELossFlat\n",
    "fastai.layers.L1LossFlat = fastai.losses.L1LossFlat\n",
    "fastai.layers.LabelSmoothingCrossEntropy = fastai.losses.LabelSmoothingCrossEntropy\n",
    "fastai.layers.LabelSmoothingCrossEntropyFlat = fastai.losses.LabelSmoothingCrossEntropyFlat"
   ]
  },
  {
   "cell_type": "code",
   "execution_count": 32,
   "metadata": {},
   "outputs": [],
   "source": [
    "path = Path()\n",
    "path.ls(file_exts='.pkl')\n",
    "learn_inf = load_learner(path/'perros_50.pkl')\n",
    "\n",
    "\n",
    "btn_upload = widgets.FileUpload()\n",
    "out_pl = widgets.Output()\n",
    "lbl_pred = widgets.Label()"
   ]
  },
  {
   "cell_type": "code",
   "execution_count": 33,
   "metadata": {},
   "outputs": [],
   "source": [
    "def on_click(change):\n",
    "    img = PILImage.create(btn_upload.data[-1])\n",
    "    out_pl.clear_output()\n",
    "    with out_pl: display(img.to_thumb(128,128))\n",
    "    pred,pred_idx,probs = learn_inf.predict(img)\n",
    "    lbl_pred.value = f'Prediction: {pred}; Probability: {probs[pred_idx]:.04f}'"
   ]
  },
  {
   "cell_type": "code",
   "execution_count": 34,
   "metadata": {},
   "outputs": [],
   "source": [
    "btn_upload.observe(on_click, names=['data'])"
   ]
  },
  {
   "cell_type": "markdown",
   "metadata": {},
   "source": [
    "<b>Upload a picture of your dog and find out it's bread. / Carga una foto de tu perro y descubre su raza.</b>"
   ]
  },
  {
   "cell_type": "code",
   "execution_count": 35,
   "metadata": {},
   "outputs": [
    {
     "data": {
      "application/vnd.jupyter.widget-view+json": {
       "model_id": "77a29205522449d892632dec3523f52b",
       "version_major": 2,
       "version_minor": 0
      },
      "text/plain": [
       "VBox(children=(Label(value='Upload a photo! / Carga una foto'), FileUpload(value={}, description='Upload'), Ou…"
      ]
     },
     "metadata": {},
     "output_type": "display_data"
    }
   ],
   "source": [
    "display(VBox([widgets.Label('Upload a photo! / Carga una foto'), btn_upload, out_pl, lbl_pred]))"
   ]
  },
  {
   "cell_type": "markdown",
   "metadata": {},
   "source": [
    "### Disclaimer\n"
   ]
  },
  {
   "cell_type": "markdown",
   "metadata": {},
   "source": [
    "It only works on 50 breeds out of these 60: (I forgot which breed I deleted, sorry)/<p>\n",
    "Esto funciona solo con 50 de las 60 razas mencionadas (Olvidé cuales son las 10 que borré, lo siento)\n",
    "\n",
    "\n",
    "Affenpinscher, afgano, akita japonés, basenji, basset hound, beagle, bauceron, bergamasco, bloodhound, bóxer, bretón, bull terrier, bulldog, bulldog francés, bullmastiff, cairn terrier, caniche, carlino, chihuahua, chin japonés, chauchau , corgi galés, dashhund, dálmata, dóberman, field spaniel, fox terrier, foxhound, galgo, golden retriever, gran danés, habanero, hovawart, keeshond, kerry blue terrier, komondor, labrador retriever, laekenois, lebrel escocés, leonberger, lhasa apso, maltés, manchester terrier, mastín inglés, mastín napolitano, munsterlander, pastor alemán, salchicha, pinscher, ibicenco, pointer, pomerania, rottweiler, saluki, samoyedo, san bernardo, schipperke, schnauzer, shar pei, yorkshire terrier"
   ]
  },
  {
   "cell_type": "code",
   "execution_count": null,
   "metadata": {},
   "outputs": [],
   "source": []
  }
 ],
 "metadata": {
  "kernelspec": {
   "display_name": "Python 3",
   "language": "python",
   "name": "python3"
  },
  "language_info": {
   "codemirror_mode": {
    "name": "ipython",
    "version": 3
   },
   "file_extension": ".py",
   "mimetype": "text/x-python",
   "name": "python",
   "nbconvert_exporter": "python",
   "pygments_lexer": "ipython3",
   "version": "3.7.6"
  }
 },
 "nbformat": 4,
 "nbformat_minor": 4
}
